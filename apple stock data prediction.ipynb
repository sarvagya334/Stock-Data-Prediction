{
 "cells": [
  {
   "cell_type": "code",
   "execution_count": 21,
   "id": "3142db5b",
   "metadata": {},
   "outputs": [],
   "source": [
    "import pandas as pd\n",
    "import numpy\n",
    "from tensorflow.keras.models import Sequential\n",
    "from tensorflow.keras.layers import Dense,Bidirectional,LSTM,Dropout\n",
    "from sklearn.preprocessing import MinMaxScaler,StandardScaler\n",
    "import matplotlib.pyplot as plt "
   ]
  },
  {
   "cell_type": "code",
   "execution_count": 2,
   "id": "9f8f4121",
   "metadata": {},
   "outputs": [],
   "source": [
    "df = pd.read_csv(\"stock_data.csv\")"
   ]
  },
  {
   "cell_type": "code",
   "execution_count": 3,
   "id": "e5ce067f",
   "metadata": {},
   "outputs": [
    {
     "data": {
      "text/html": [
       "<div>\n",
       "<style scoped>\n",
       "    .dataframe tbody tr th:only-of-type {\n",
       "        vertical-align: middle;\n",
       "    }\n",
       "\n",
       "    .dataframe tbody tr th {\n",
       "        vertical-align: top;\n",
       "    }\n",
       "\n",
       "    .dataframe thead th {\n",
       "        text-align: right;\n",
       "    }\n",
       "</style>\n",
       "<table border=\"1\" class=\"dataframe\">\n",
       "  <thead>\n",
       "    <tr style=\"text-align: right;\">\n",
       "      <th></th>\n",
       "      <th>Date</th>\n",
       "      <th>Open</th>\n",
       "      <th>High</th>\n",
       "      <th>Low</th>\n",
       "      <th>Close</th>\n",
       "      <th>Volume</th>\n",
       "      <th>OpenInt</th>\n",
       "      <th>Stock</th>\n",
       "    </tr>\n",
       "  </thead>\n",
       "  <tbody>\n",
       "    <tr>\n",
       "      <th>0</th>\n",
       "      <td>1984-09-07</td>\n",
       "      <td>0.42388</td>\n",
       "      <td>0.42902</td>\n",
       "      <td>0.41874</td>\n",
       "      <td>0.42388</td>\n",
       "      <td>23220030</td>\n",
       "      <td>0</td>\n",
       "      <td>AAPL</td>\n",
       "    </tr>\n",
       "    <tr>\n",
       "      <th>1</th>\n",
       "      <td>1984-09-10</td>\n",
       "      <td>0.42388</td>\n",
       "      <td>0.42516</td>\n",
       "      <td>0.41366</td>\n",
       "      <td>0.42134</td>\n",
       "      <td>18022532</td>\n",
       "      <td>0</td>\n",
       "      <td>AAPL</td>\n",
       "    </tr>\n",
       "    <tr>\n",
       "      <th>2</th>\n",
       "      <td>1984-09-11</td>\n",
       "      <td>0.42516</td>\n",
       "      <td>0.43668</td>\n",
       "      <td>0.42516</td>\n",
       "      <td>0.42902</td>\n",
       "      <td>42498199</td>\n",
       "      <td>0</td>\n",
       "      <td>AAPL</td>\n",
       "    </tr>\n",
       "    <tr>\n",
       "      <th>3</th>\n",
       "      <td>1984-09-12</td>\n",
       "      <td>0.42902</td>\n",
       "      <td>0.43157</td>\n",
       "      <td>0.41618</td>\n",
       "      <td>0.41618</td>\n",
       "      <td>37125801</td>\n",
       "      <td>0</td>\n",
       "      <td>AAPL</td>\n",
       "    </tr>\n",
       "    <tr>\n",
       "      <th>4</th>\n",
       "      <td>1984-09-13</td>\n",
       "      <td>0.43927</td>\n",
       "      <td>0.44052</td>\n",
       "      <td>0.43927</td>\n",
       "      <td>0.43927</td>\n",
       "      <td>57822062</td>\n",
       "      <td>0</td>\n",
       "      <td>AAPL</td>\n",
       "    </tr>\n",
       "    <tr>\n",
       "      <th>...</th>\n",
       "      <td>...</td>\n",
       "      <td>...</td>\n",
       "      <td>...</td>\n",
       "      <td>...</td>\n",
       "      <td>...</td>\n",
       "      <td>...</td>\n",
       "      <td>...</td>\n",
       "      <td>...</td>\n",
       "    </tr>\n",
       "    <tr>\n",
       "      <th>19581</th>\n",
       "      <td>2017-11-06</td>\n",
       "      <td>178.56000</td>\n",
       "      <td>180.45000</td>\n",
       "      <td>178.31000</td>\n",
       "      <td>180.17000</td>\n",
       "      <td>13275578</td>\n",
       "      <td>0</td>\n",
       "      <td>FB</td>\n",
       "    </tr>\n",
       "    <tr>\n",
       "      <th>19582</th>\n",
       "      <td>2017-11-07</td>\n",
       "      <td>180.50000</td>\n",
       "      <td>180.74800</td>\n",
       "      <td>179.40300</td>\n",
       "      <td>180.25000</td>\n",
       "      <td>12903836</td>\n",
       "      <td>0</td>\n",
       "      <td>FB</td>\n",
       "    </tr>\n",
       "    <tr>\n",
       "      <th>19583</th>\n",
       "      <td>2017-11-08</td>\n",
       "      <td>179.79000</td>\n",
       "      <td>180.35000</td>\n",
       "      <td>179.11000</td>\n",
       "      <td>179.56000</td>\n",
       "      <td>10467606</td>\n",
       "      <td>0</td>\n",
       "      <td>FB</td>\n",
       "    </tr>\n",
       "    <tr>\n",
       "      <th>19584</th>\n",
       "      <td>2017-11-09</td>\n",
       "      <td>178.31000</td>\n",
       "      <td>179.40000</td>\n",
       "      <td>177.09000</td>\n",
       "      <td>179.30000</td>\n",
       "      <td>12602188</td>\n",
       "      <td>0</td>\n",
       "      <td>FB</td>\n",
       "    </tr>\n",
       "    <tr>\n",
       "      <th>19585</th>\n",
       "      <td>2017-11-10</td>\n",
       "      <td>178.35000</td>\n",
       "      <td>179.10000</td>\n",
       "      <td>177.96000</td>\n",
       "      <td>178.46000</td>\n",
       "      <td>11060355</td>\n",
       "      <td>0</td>\n",
       "      <td>FB</td>\n",
       "    </tr>\n",
       "  </tbody>\n",
       "</table>\n",
       "<p>19586 rows × 8 columns</p>\n",
       "</div>"
      ],
      "text/plain": [
       "             Date       Open       High        Low      Close    Volume  \\\n",
       "0      1984-09-07    0.42388    0.42902    0.41874    0.42388  23220030   \n",
       "1      1984-09-10    0.42388    0.42516    0.41366    0.42134  18022532   \n",
       "2      1984-09-11    0.42516    0.43668    0.42516    0.42902  42498199   \n",
       "3      1984-09-12    0.42902    0.43157    0.41618    0.41618  37125801   \n",
       "4      1984-09-13    0.43927    0.44052    0.43927    0.43927  57822062   \n",
       "...           ...        ...        ...        ...        ...       ...   \n",
       "19581  2017-11-06  178.56000  180.45000  178.31000  180.17000  13275578   \n",
       "19582  2017-11-07  180.50000  180.74800  179.40300  180.25000  12903836   \n",
       "19583  2017-11-08  179.79000  180.35000  179.11000  179.56000  10467606   \n",
       "19584  2017-11-09  178.31000  179.40000  177.09000  179.30000  12602188   \n",
       "19585  2017-11-10  178.35000  179.10000  177.96000  178.46000  11060355   \n",
       "\n",
       "       OpenInt Stock  \n",
       "0            0  AAPL  \n",
       "1            0  AAPL  \n",
       "2            0  AAPL  \n",
       "3            0  AAPL  \n",
       "4            0  AAPL  \n",
       "...        ...   ...  \n",
       "19581        0    FB  \n",
       "19582        0    FB  \n",
       "19583        0    FB  \n",
       "19584        0    FB  \n",
       "19585        0    FB  \n",
       "\n",
       "[19586 rows x 8 columns]"
      ]
     },
     "execution_count": 3,
     "metadata": {},
     "output_type": "execute_result"
    }
   ],
   "source": [
    "df"
   ]
  },
  {
   "cell_type": "code",
   "execution_count": 4,
   "id": "a56152ea",
   "metadata": {},
   "outputs": [
    {
     "name": "stdout",
     "output_type": "stream",
     "text": [
      "<class 'pandas.core.frame.DataFrame'>\n",
      "RangeIndex: 19586 entries, 0 to 19585\n",
      "Data columns (total 8 columns):\n",
      " #   Column   Non-Null Count  Dtype  \n",
      "---  ------   --------------  -----  \n",
      " 0   Date     19586 non-null  object \n",
      " 1   Open     19586 non-null  float64\n",
      " 2   High     19586 non-null  float64\n",
      " 3   Low      19586 non-null  float64\n",
      " 4   Close    19586 non-null  float64\n",
      " 5   Volume   19586 non-null  int64  \n",
      " 6   OpenInt  19586 non-null  int64  \n",
      " 7   Stock    19586 non-null  object \n",
      "dtypes: float64(4), int64(2), object(2)\n",
      "memory usage: 1.2+ MB\n"
     ]
    }
   ],
   "source": [
    "df.info()"
   ]
  },
  {
   "cell_type": "code",
   "execution_count": 5,
   "id": "868610e3",
   "metadata": {},
   "outputs": [
    {
     "data": {
      "text/plain": [
       "Date       0\n",
       "Open       0\n",
       "High       0\n",
       "Low        0\n",
       "Close      0\n",
       "Volume     0\n",
       "OpenInt    0\n",
       "Stock      0\n",
       "dtype: int64"
      ]
     },
     "execution_count": 5,
     "metadata": {},
     "output_type": "execute_result"
    }
   ],
   "source": [
    "df.isnull().sum()"
   ]
  },
  {
   "cell_type": "code",
   "execution_count": 6,
   "id": "67dea73f",
   "metadata": {},
   "outputs": [
    {
     "data": {
      "text/plain": [
       "AAPL    8364\n",
       "MSFT    7983\n",
       "TSLA    1858\n",
       "FB      1381\n",
       "Name: Stock, dtype: int64"
      ]
     },
     "execution_count": 6,
     "metadata": {},
     "output_type": "execute_result"
    }
   ],
   "source": [
    "df[\"Stock\"].value_counts()"
   ]
  },
  {
   "cell_type": "markdown",
   "id": "c5f03ef0",
   "metadata": {},
   "source": [
    "So we have max data for Apple stock lets go with that"
   ]
  },
  {
   "cell_type": "code",
   "execution_count": 7,
   "id": "de898211",
   "metadata": {},
   "outputs": [
    {
     "data": {
      "text/html": [
       "<div>\n",
       "<style scoped>\n",
       "    .dataframe tbody tr th:only-of-type {\n",
       "        vertical-align: middle;\n",
       "    }\n",
       "\n",
       "    .dataframe tbody tr th {\n",
       "        vertical-align: top;\n",
       "    }\n",
       "\n",
       "    .dataframe thead th {\n",
       "        text-align: right;\n",
       "    }\n",
       "</style>\n",
       "<table border=\"1\" class=\"dataframe\">\n",
       "  <thead>\n",
       "    <tr style=\"text-align: right;\">\n",
       "      <th></th>\n",
       "      <th>Date</th>\n",
       "      <th>Open</th>\n",
       "      <th>High</th>\n",
       "      <th>Low</th>\n",
       "      <th>Close</th>\n",
       "      <th>Volume</th>\n",
       "      <th>OpenInt</th>\n",
       "      <th>Stock</th>\n",
       "    </tr>\n",
       "  </thead>\n",
       "  <tbody>\n",
       "    <tr>\n",
       "      <th>0</th>\n",
       "      <td>1984-09-07</td>\n",
       "      <td>0.42388</td>\n",
       "      <td>0.42902</td>\n",
       "      <td>0.41874</td>\n",
       "      <td>0.42388</td>\n",
       "      <td>23220030</td>\n",
       "      <td>0</td>\n",
       "      <td>AAPL</td>\n",
       "    </tr>\n",
       "    <tr>\n",
       "      <th>1</th>\n",
       "      <td>1984-09-10</td>\n",
       "      <td>0.42388</td>\n",
       "      <td>0.42516</td>\n",
       "      <td>0.41366</td>\n",
       "      <td>0.42134</td>\n",
       "      <td>18022532</td>\n",
       "      <td>0</td>\n",
       "      <td>AAPL</td>\n",
       "    </tr>\n",
       "    <tr>\n",
       "      <th>2</th>\n",
       "      <td>1984-09-11</td>\n",
       "      <td>0.42516</td>\n",
       "      <td>0.43668</td>\n",
       "      <td>0.42516</td>\n",
       "      <td>0.42902</td>\n",
       "      <td>42498199</td>\n",
       "      <td>0</td>\n",
       "      <td>AAPL</td>\n",
       "    </tr>\n",
       "    <tr>\n",
       "      <th>3</th>\n",
       "      <td>1984-09-12</td>\n",
       "      <td>0.42902</td>\n",
       "      <td>0.43157</td>\n",
       "      <td>0.41618</td>\n",
       "      <td>0.41618</td>\n",
       "      <td>37125801</td>\n",
       "      <td>0</td>\n",
       "      <td>AAPL</td>\n",
       "    </tr>\n",
       "    <tr>\n",
       "      <th>4</th>\n",
       "      <td>1984-09-13</td>\n",
       "      <td>0.43927</td>\n",
       "      <td>0.44052</td>\n",
       "      <td>0.43927</td>\n",
       "      <td>0.43927</td>\n",
       "      <td>57822062</td>\n",
       "      <td>0</td>\n",
       "      <td>AAPL</td>\n",
       "    </tr>\n",
       "    <tr>\n",
       "      <th>...</th>\n",
       "      <td>...</td>\n",
       "      <td>...</td>\n",
       "      <td>...</td>\n",
       "      <td>...</td>\n",
       "      <td>...</td>\n",
       "      <td>...</td>\n",
       "      <td>...</td>\n",
       "      <td>...</td>\n",
       "    </tr>\n",
       "    <tr>\n",
       "      <th>8359</th>\n",
       "      <td>2017-11-06</td>\n",
       "      <td>171.75000</td>\n",
       "      <td>174.36000</td>\n",
       "      <td>171.10000</td>\n",
       "      <td>173.63000</td>\n",
       "      <td>34901241</td>\n",
       "      <td>0</td>\n",
       "      <td>AAPL</td>\n",
       "    </tr>\n",
       "    <tr>\n",
       "      <th>8360</th>\n",
       "      <td>2017-11-07</td>\n",
       "      <td>173.29000</td>\n",
       "      <td>174.51000</td>\n",
       "      <td>173.29000</td>\n",
       "      <td>174.18000</td>\n",
       "      <td>24424877</td>\n",
       "      <td>0</td>\n",
       "      <td>AAPL</td>\n",
       "    </tr>\n",
       "    <tr>\n",
       "      <th>8361</th>\n",
       "      <td>2017-11-08</td>\n",
       "      <td>174.03000</td>\n",
       "      <td>175.61000</td>\n",
       "      <td>173.71000</td>\n",
       "      <td>175.61000</td>\n",
       "      <td>24451166</td>\n",
       "      <td>0</td>\n",
       "      <td>AAPL</td>\n",
       "    </tr>\n",
       "    <tr>\n",
       "      <th>8362</th>\n",
       "      <td>2017-11-09</td>\n",
       "      <td>174.48000</td>\n",
       "      <td>175.46000</td>\n",
       "      <td>172.52000</td>\n",
       "      <td>175.25000</td>\n",
       "      <td>29533086</td>\n",
       "      <td>0</td>\n",
       "      <td>AAPL</td>\n",
       "    </tr>\n",
       "    <tr>\n",
       "      <th>8363</th>\n",
       "      <td>2017-11-10</td>\n",
       "      <td>175.11000</td>\n",
       "      <td>175.38000</td>\n",
       "      <td>174.27000</td>\n",
       "      <td>174.67000</td>\n",
       "      <td>25130494</td>\n",
       "      <td>0</td>\n",
       "      <td>AAPL</td>\n",
       "    </tr>\n",
       "  </tbody>\n",
       "</table>\n",
       "<p>8364 rows × 8 columns</p>\n",
       "</div>"
      ],
      "text/plain": [
       "            Date       Open       High        Low      Close    Volume  \\\n",
       "0     1984-09-07    0.42388    0.42902    0.41874    0.42388  23220030   \n",
       "1     1984-09-10    0.42388    0.42516    0.41366    0.42134  18022532   \n",
       "2     1984-09-11    0.42516    0.43668    0.42516    0.42902  42498199   \n",
       "3     1984-09-12    0.42902    0.43157    0.41618    0.41618  37125801   \n",
       "4     1984-09-13    0.43927    0.44052    0.43927    0.43927  57822062   \n",
       "...          ...        ...        ...        ...        ...       ...   \n",
       "8359  2017-11-06  171.75000  174.36000  171.10000  173.63000  34901241   \n",
       "8360  2017-11-07  173.29000  174.51000  173.29000  174.18000  24424877   \n",
       "8361  2017-11-08  174.03000  175.61000  173.71000  175.61000  24451166   \n",
       "8362  2017-11-09  174.48000  175.46000  172.52000  175.25000  29533086   \n",
       "8363  2017-11-10  175.11000  175.38000  174.27000  174.67000  25130494   \n",
       "\n",
       "      OpenInt Stock  \n",
       "0           0  AAPL  \n",
       "1           0  AAPL  \n",
       "2           0  AAPL  \n",
       "3           0  AAPL  \n",
       "4           0  AAPL  \n",
       "...       ...   ...  \n",
       "8359        0  AAPL  \n",
       "8360        0  AAPL  \n",
       "8361        0  AAPL  \n",
       "8362        0  AAPL  \n",
       "8363        0  AAPL  \n",
       "\n",
       "[8364 rows x 8 columns]"
      ]
     },
     "execution_count": 7,
     "metadata": {},
     "output_type": "execute_result"
    }
   ],
   "source": [
    "df1 = []\n",
    "\n",
    "for i in range(0,len(df)):\n",
    "    if df.loc[i,\"Stock\"] == \"AAPL\":\n",
    "        df1.append(df.loc[i,:])\n",
    "df1 = pd.DataFrame(df1)\n",
    "df1"
   ]
  },
  {
   "cell_type": "code",
   "execution_count": 8,
   "id": "7b3698c4",
   "metadata": {},
   "outputs": [
    {
     "data": {
      "image/png": "[encoded data removed]",
      "text/plain": [
       "<Figure size 1152x648 with 1 Axes>"
      ]
     },
     "metadata": {
      "needs_background": "light"
     },
     "output_type": "display_data"
    }
   ],
   "source": [
    "plt.figure(figsize= (16,9))\n",
    "plt.plot(df1[\"Open\"])\n",
    "plt.title(\"Apple stock price\")\n",
    "plt.xlabel(\"Date\")\n",
    "plt.ylabel(\"Price\")\n",
    "plt.show()"
   ]
  },
  {
   "cell_type": "markdown",
   "id": "b159b59f",
   "metadata": {},
   "source": [
    "### SCALING THE DATA"
   ]
  },
  {
   "cell_type": "code",
   "execution_count": 9,
   "id": "0c31a248",
   "metadata": {},
   "outputs": [],
   "source": [
    "from sklearn.preprocessing import MinMaxScaler\n",
    "scaler=MinMaxScaler(feature_range=(0,1))\n",
    "df2=scaler.fit_transform(np.array(df1[\"Open\"]).reshape(-1,1))"
   ]
  },
  {
   "cell_type": "code",
   "execution_count": 10,
   "id": "56ffc236",
   "metadata": {},
   "outputs": [
    {
     "data": {
      "text/plain": [
       "array([[0.00109122],\n",
       "       [0.00109122],\n",
       "       [0.00109854],\n",
       "       ...,\n",
       "       [0.99382423],\n",
       "       [0.99639747],\n",
       "       [1.        ]])"
      ]
     },
     "execution_count": 10,
     "metadata": {},
     "output_type": "execute_result"
    }
   ],
   "source": [
    "df2"
   ]
  },
  {
   "cell_type": "markdown",
   "id": "57629f9e",
   "metadata": {},
   "source": [
    "### Splitting"
   ]
  },
  {
   "cell_type": "code",
   "execution_count": 11,
   "id": "01c0fb83",
   "metadata": {},
   "outputs": [],
   "source": [
    "##splitting dataset into train and test split\n",
    "training_size=int(len(df2)*0.65)\n",
    "test_size=len(df2)-training_size\n",
    "train_data,test_data=df2[0:training_size,:],df2[training_size:len(df2),:1]"
   ]
  },
  {
   "cell_type": "code",
   "execution_count": 22,
   "id": "e9a995e8",
   "metadata": {},
   "outputs": [],
   "source": [
    "# convert an array of values into a dataset matrix\n",
    "def create_dataset(dataset, time_step=1):\n",
    "    dataX, dataY = [], []\n",
    "    for i in range(len(dataset)-time_step-1):\n",
    "        a = dataset[i:(i+time_step), 0]   ###i=0, 0,1,2,3-----99   100 \n",
    "        dataX.append(a)\n",
    "        dataY.append(dataset[i + time_step, 0])\n",
    "    return np.array(dataX), numpy.array(dataY)\n",
    "\n",
    "\n",
    "\n",
    "\n",
    "\n",
    "\n",
    "\n",
    "### Another way to write the code above\n",
    "# split a univariate sequence into samples\n",
    "#def split_sequence(sequence, n_steps):\n",
    "#   X, y = list(), list()\n",
    "#\tfor i in range(len(sequence)):\n",
    "#\t\t# find the end of this pattern\n",
    "#\t\tend_ix = i + n_steps\n",
    "#\t\t# check if we are beyond the sequence\n",
    "#\t\tif end_ix > len(sequence)-1:\n",
    "#\t\t\tbreak\n",
    "#\t\t# gather input and output parts of the pattern\n",
    "#\t\tseq_x, seq_y = sequence[i:end_ix], sequence[end_ix]\n",
    "#\t\tX.append(seq_x)\n",
    "#\t\ty.append(seq_y)\n",
    "#\treturn array(X), array(y)"
   ]
  },
  {
   "cell_type": "code",
   "execution_count": 23,
   "id": "4fef97f3",
   "metadata": {},
   "outputs": [],
   "source": [
    "# reshape into X=t,t+1,t+2,t+3 and Y=t+4\n",
    "time_step = 100\n",
    "X_train, y_train = create_dataset(train_data, time_step)\n",
    "X_test, ytest = create_dataset(test_data, time_step)"
   ]
  },
  {
   "cell_type": "code",
   "execution_count": 24,
   "id": "82f4bcba",
   "metadata": {
    "scrolled": true
   },
   "outputs": [
    {
     "name": "stdout",
     "output_type": "stream",
     "text": [
      "(5335, 100)\n",
      "(5335,)\n"
     ]
    },
    {
     "data": {
      "text/plain": [
       "(None, None)"
      ]
     },
     "execution_count": 24,
     "metadata": {},
     "output_type": "execute_result"
    }
   ],
   "source": [
    "print(X_train.shape), print(y_train.shape)"
   ]
  },
  {
   "cell_type": "code",
   "execution_count": 25,
   "id": "a9776f6b",
   "metadata": {},
   "outputs": [
    {
     "name": "stdout",
     "output_type": "stream",
     "text": [
      "(2827, 100)\n",
      "(2827,)\n"
     ]
    },
    {
     "data": {
      "text/plain": [
       "(None, None)"
      ]
     },
     "execution_count": 25,
     "metadata": {},
     "output_type": "execute_result"
    }
   ],
   "source": [
    "print(X_test.shape), print(ytest.shape)"
   ]
  },
  {
   "cell_type": "code",
   "execution_count": 43,
   "id": "85a612cf",
   "metadata": {},
   "outputs": [],
   "source": [
    "# reshape input to be [samples, time steps, features] which is required for LSTM\n",
    "X_train =X_train.reshape(X_train.shape[0],X_train.shape[1] , 1)\n",
    "X_test = X_test.reshape(X_test.shape[0],X_test.shape[1] , 1)"
   ]
  },
  {
   "cell_type": "markdown",
   "id": "2e467b89",
   "metadata": {},
   "source": [
    "## Making our model"
   ]
  },
  {
   "cell_type": "code",
   "execution_count": 27,
   "id": "11164136",
   "metadata": {},
   "outputs": [],
   "source": [
    "model=Sequential()\n",
    "model.add(LSTM(50,return_sequences=True,input_shape=(100,1)))\n",
    "model.add(LSTM(50,return_sequences=True))\n",
    "model.add(LSTM(50))\n",
    "model.add(Dense(1))\n",
    "model.compile(loss='mean_squared_error',optimizer='adam')"
   ]
  },
  {
   "cell_type": "code",
   "execution_count": 28,
   "id": "15f1f9d3",
   "metadata": {},
   "outputs": [
    {
     "name": "stdout",
     "output_type": "stream",
     "text": [
      "Model: \"sequential\"\n",
      "_________________________________________________________________\n",
      " Layer (type)                Output Shape              Param #   \n",
      "=================================================================\n",
      " lstm (LSTM)                 (None, 100, 50)           10400     \n",
      "                                                                 \n",
      " lstm_1 (LSTM)               (None, 100, 50)           20200     \n",
      "                                                                 \n",
      " lstm_2 (LSTM)               (None, 50)                20200     \n",
      "                                                                 \n",
      " dense (Dense)               (None, 1)                 51        \n",
      "                                                                 \n",
      "=================================================================\n",
      "Total params: 50,851\n",
      "Trainable params: 50,851\n",
      "Non-trainable params: 0\n",
      "_________________________________________________________________\n"
     ]
    }
   ],
   "source": [
    "model.summary()"
   ]
  },
  {
   "cell_type": "code",
   "execution_count": 29,
   "id": "0ee62269",
   "metadata": {
    "scrolled": true
   },
   "outputs": [
    {
     "name": "stdout",
     "output_type": "stream",
     "text": [
      "Epoch 1/100\n",
      "84/84 [==============================] - 10s 82ms/step - loss: 2.1880e-05 - val_loss: 0.0041\n",
      "Epoch 2/100\n",
      "84/84 [==============================] - 6s 72ms/step - loss: 1.5278e-06 - val_loss: 0.0027\n",
      "Epoch 3/100\n",
      "84/84 [==============================] - 6s 72ms/step - loss: 1.6273e-06 - val_loss: 0.0012\n",
      "Epoch 4/100\n",
      "84/84 [==============================] - 6s 72ms/step - loss: 1.2974e-06 - val_loss: 0.0012\n",
      "Epoch 5/100\n",
      "84/84 [==============================] - 6s 72ms/step - loss: 1.2545e-06 - val_loss: 8.8140e-04\n",
      "Epoch 6/100\n",
      "84/84 [==============================] - 6s 72ms/step - loss: 1.7665e-06 - val_loss: 8.3868e-04\n",
      "Epoch 7/100\n",
      "84/84 [==============================] - 6s 72ms/step - loss: 1.1565e-06 - val_loss: 0.0020\n",
      "Epoch 8/100\n",
      "84/84 [==============================] - 6s 72ms/step - loss: 1.1483e-06 - val_loss: 5.9258e-04\n",
      "Epoch 9/100\n",
      "84/84 [==============================] - 6s 72ms/step - loss: 1.2767e-06 - val_loss: 7.8454e-04\n",
      "Epoch 10/100\n",
      "84/84 [==============================] - 6s 73ms/step - loss: 1.0066e-06 - val_loss: 0.0038\n",
      "Epoch 11/100\n",
      "84/84 [==============================] - 6s 74ms/step - loss: 1.2240e-06 - val_loss: 0.0017\n",
      "Epoch 12/100\n",
      "84/84 [==============================] - 6s 73ms/step - loss: 1.5159e-06 - val_loss: 0.0010\n",
      "Epoch 13/100\n",
      "84/84 [==============================] - 6s 73ms/step - loss: 9.5282e-07 - val_loss: 7.2478e-04\n",
      "Epoch 14/100\n",
      "84/84 [==============================] - 6s 74ms/step - loss: 9.1329e-07 - val_loss: 8.4779e-04\n",
      "Epoch 15/100\n",
      "84/84 [==============================] - 6s 74ms/step - loss: 9.8548e-07 - val_loss: 3.8436e-04\n",
      "Epoch 16/100\n",
      "84/84 [==============================] - 6s 75ms/step - loss: 1.0283e-06 - val_loss: 0.0015\n",
      "Epoch 17/100\n",
      "84/84 [==============================] - 6s 72ms/step - loss: 9.2971e-07 - val_loss: 6.6623e-04\n",
      "Epoch 18/100\n",
      "84/84 [==============================] - 6s 71ms/step - loss: 8.1407e-07 - val_loss: 0.0016\n",
      "Epoch 19/100\n",
      "84/84 [==============================] - 6s 71ms/step - loss: 7.5718e-07 - val_loss: 0.0018\n",
      "Epoch 20/100\n",
      "84/84 [==============================] - 6s 74ms/step - loss: 7.7025e-07 - val_loss: 0.0022\n",
      "Epoch 21/100\n",
      "84/84 [==============================] - 6s 73ms/step - loss: 9.2001e-07 - val_loss: 4.4231e-04\n",
      "Epoch 22/100\n",
      "84/84 [==============================] - 6s 73ms/step - loss: 8.6894e-07 - val_loss: 9.6221e-04\n",
      "Epoch 23/100\n",
      "84/84 [==============================] - 6s 73ms/step - loss: 7.7815e-07 - val_loss: 5.8298e-04\n",
      "Epoch 24/100\n",
      "84/84 [==============================] - 6s 73ms/step - loss: 6.8972e-07 - val_loss: 0.0011\n",
      "Epoch 25/100\n",
      "84/84 [==============================] - 6s 73ms/step - loss: 6.5755e-07 - val_loss: 0.0014\n",
      "Epoch 26/100\n",
      "84/84 [==============================] - 6s 73ms/step - loss: 7.3859e-07 - val_loss: 2.7967e-04\n",
      "Epoch 27/100\n",
      "84/84 [==============================] - 6s 73ms/step - loss: 6.6166e-07 - val_loss: 0.0014\n",
      "Epoch 28/100\n",
      "84/84 [==============================] - 6s 73ms/step - loss: 6.1865e-07 - val_loss: 0.0020\n",
      "Epoch 29/100\n",
      "84/84 [==============================] - 6s 73ms/step - loss: 5.8536e-07 - val_loss: 6.6462e-04\n",
      "Epoch 30/100\n",
      "84/84 [==============================] - 6s 73ms/step - loss: 8.3868e-07 - val_loss: 8.2810e-04\n",
      "Epoch 31/100\n",
      "84/84 [==============================] - 6s 73ms/step - loss: 7.1660e-07 - val_loss: 6.6241e-04\n",
      "Epoch 32/100\n",
      "84/84 [==============================] - 6s 73ms/step - loss: 5.8728e-07 - val_loss: 8.0156e-04\n",
      "Epoch 33/100\n",
      "84/84 [==============================] - 6s 73ms/step - loss: 6.3441e-07 - val_loss: 4.0220e-04\n",
      "Epoch 34/100\n",
      "84/84 [==============================] - 6s 73ms/step - loss: 5.9515e-07 - val_loss: 0.0016\n",
      "Epoch 35/100\n",
      "84/84 [==============================] - 6s 73ms/step - loss: 6.2566e-07 - val_loss: 0.0013\n",
      "Epoch 36/100\n",
      "84/84 [==============================] - 6s 73ms/step - loss: 6.6269e-07 - val_loss: 2.5550e-04\n",
      "Epoch 37/100\n",
      "84/84 [==============================] - 6s 74ms/step - loss: 7.5038e-07 - val_loss: 5.1646e-04\n",
      "Epoch 38/100\n",
      "84/84 [==============================] - 6s 73ms/step - loss: 6.1785e-07 - val_loss: 0.0010\n",
      "Epoch 39/100\n",
      "84/84 [==============================] - 6s 73ms/step - loss: 4.6030e-07 - val_loss: 6.0080e-04\n",
      "Epoch 40/100\n",
      "84/84 [==============================] - 6s 73ms/step - loss: 5.4650e-07 - val_loss: 9.7465e-04\n",
      "Epoch 41/100\n",
      "84/84 [==============================] - 6s 73ms/step - loss: 4.7868e-07 - val_loss: 0.0014\n",
      "Epoch 42/100\n",
      "84/84 [==============================] - 6s 73ms/step - loss: 5.7641e-07 - val_loss: 5.6799e-04\n",
      "Epoch 43/100\n",
      "84/84 [==============================] - 6s 73ms/step - loss: 4.9911e-07 - val_loss: 4.0879e-04\n",
      "Epoch 44/100\n",
      "84/84 [==============================] - 6s 73ms/step - loss: 4.5876e-07 - val_loss: 9.9866e-04\n",
      "Epoch 45/100\n",
      "84/84 [==============================] - 6s 73ms/step - loss: 5.7639e-07 - val_loss: 7.8058e-04\n",
      "Epoch 46/100\n",
      "84/84 [==============================] - 6s 73ms/step - loss: 5.3581e-07 - val_loss: 3.1461e-04\n",
      "Epoch 47/100\n",
      "84/84 [==============================] - 6s 73ms/step - loss: 4.4267e-07 - val_loss: 8.0608e-04\n",
      "Epoch 48/100\n",
      "84/84 [==============================] - 6s 73ms/step - loss: 5.6959e-07 - val_loss: 0.0010\n",
      "Epoch 49/100\n",
      "84/84 [==============================] - 6s 73ms/step - loss: 5.4950e-07 - val_loss: 3.4960e-04\n",
      "Epoch 50/100\n",
      "84/84 [==============================] - 6s 73ms/step - loss: 4.9483e-07 - val_loss: 5.2671e-04\n",
      "Epoch 51/100\n",
      "84/84 [==============================] - 6s 73ms/step - loss: 4.4017e-07 - val_loss: 6.9454e-04\n",
      "Epoch 52/100\n",
      "84/84 [==============================] - 6s 73ms/step - loss: 4.8316e-07 - val_loss: 4.1267e-04\n",
      "Epoch 53/100\n",
      "84/84 [==============================] - 6s 73ms/step - loss: 4.5973e-07 - val_loss: 4.9511e-04\n",
      "Epoch 54/100\n",
      "84/84 [==============================] - 6s 74ms/step - loss: 5.1696e-07 - val_loss: 4.3306e-04\n",
      "Epoch 55/100\n",
      "84/84 [==============================] - 6s 74ms/step - loss: 4.6088e-07 - val_loss: 3.9125e-04\n",
      "Epoch 56/100\n",
      "84/84 [==============================] - 6s 73ms/step - loss: 3.7689e-07 - val_loss: 9.8074e-04\n",
      "Epoch 57/100\n",
      "84/84 [==============================] - 6s 73ms/step - loss: 4.7101e-07 - val_loss: 4.4758e-04\n",
      "Epoch 58/100\n",
      "84/84 [==============================] - 6s 73ms/step - loss: 4.2874e-07 - val_loss: 4.8762e-04\n",
      "Epoch 59/100\n",
      "84/84 [==============================] - 6s 73ms/step - loss: 3.9500e-07 - val_loss: 0.0014\n",
      "Epoch 60/100\n",
      "84/84 [==============================] - 6s 73ms/step - loss: 4.1907e-07 - val_loss: 7.9387e-04\n",
      "Epoch 61/100\n",
      "84/84 [==============================] - 6s 73ms/step - loss: 3.4286e-07 - val_loss: 7.9722e-04\n",
      "Epoch 62/100\n",
      "84/84 [==============================] - 6s 73ms/step - loss: 4.9133e-07 - val_loss: 4.5276e-04\n",
      "Epoch 63/100\n",
      "84/84 [==============================] - 6s 73ms/step - loss: 5.2051e-07 - val_loss: 9.0042e-04\n",
      "Epoch 64/100\n",
      "84/84 [==============================] - 6s 73ms/step - loss: 4.6869e-07 - val_loss: 8.7665e-04\n",
      "Epoch 65/100\n",
      "84/84 [==============================] - 6s 73ms/step - loss: 4.3896e-07 - val_loss: 3.8565e-04\n",
      "Epoch 66/100\n",
      "84/84 [==============================] - 6s 73ms/step - loss: 4.0736e-07 - val_loss: 5.1391e-04\n",
      "Epoch 67/100\n",
      "84/84 [==============================] - 6s 73ms/step - loss: 4.7812e-07 - val_loss: 6.6715e-04\n",
      "Epoch 68/100\n",
      "84/84 [==============================] - 6s 73ms/step - loss: 3.2577e-07 - val_loss: 3.7385e-04\n",
      "Epoch 69/100\n",
      "84/84 [==============================] - 6s 73ms/step - loss: 3.5703e-07 - val_loss: 5.7936e-04\n",
      "Epoch 70/100\n",
      "84/84 [==============================] - 6s 73ms/step - loss: 3.6889e-07 - val_loss: 6.5950e-04\n",
      "Epoch 71/100\n",
      "84/84 [==============================] - 6s 73ms/step - loss: 3.6659e-07 - val_loss: 7.2135e-04\n",
      "Epoch 72/100\n",
      "84/84 [==============================] - 6s 73ms/step - loss: 4.1455e-07 - val_loss: 8.2960e-04\n",
      "Epoch 73/100\n",
      "84/84 [==============================] - 6s 73ms/step - loss: 4.0298e-07 - val_loss: 6.2700e-04\n",
      "Epoch 74/100\n",
      "84/84 [==============================] - 6s 73ms/step - loss: 5.1744e-07 - val_loss: 3.4897e-04\n",
      "Epoch 75/100\n",
      "84/84 [==============================] - 6s 73ms/step - loss: 4.5943e-07 - val_loss: 0.0012\n",
      "Epoch 76/100\n",
      "84/84 [==============================] - 6s 73ms/step - loss: 4.0489e-07 - val_loss: 6.4049e-04\n",
      "Epoch 77/100\n"
     ]
    },
    {
     "name": "stdout",
     "output_type": "stream",
     "text": [
      "84/84 [==============================] - 6s 73ms/step - loss: 3.2354e-07 - val_loss: 5.1747e-04\n",
      "Epoch 78/100\n",
      "84/84 [==============================] - 6s 73ms/step - loss: 2.8352e-07 - val_loss: 8.0558e-04\n",
      "Epoch 79/100\n",
      "84/84 [==============================] - 6s 73ms/step - loss: 3.1945e-07 - val_loss: 5.2393e-04\n",
      "Epoch 80/100\n",
      "84/84 [==============================] - 6s 72ms/step - loss: 3.8853e-07 - val_loss: 0.0013\n",
      "Epoch 81/100\n",
      "84/84 [==============================] - 6s 72ms/step - loss: 3.1175e-07 - val_loss: 7.4326e-04\n",
      "Epoch 82/100\n",
      "84/84 [==============================] - 6s 72ms/step - loss: 4.2269e-07 - val_loss: 9.1148e-04\n",
      "Epoch 83/100\n",
      "84/84 [==============================] - 6s 72ms/step - loss: 3.1231e-07 - val_loss: 5.6133e-04\n",
      "Epoch 84/100\n",
      "84/84 [==============================] - 6s 72ms/step - loss: 2.9965e-07 - val_loss: 5.4661e-04\n",
      "Epoch 85/100\n",
      "84/84 [==============================] - 6s 72ms/step - loss: 2.6600e-07 - val_loss: 5.0571e-04\n",
      "Epoch 86/100\n",
      "84/84 [==============================] - 6s 72ms/step - loss: 2.5350e-07 - val_loss: 7.3612e-04\n",
      "Epoch 87/100\n",
      "84/84 [==============================] - 6s 72ms/step - loss: 3.3782e-07 - val_loss: 4.7402e-04\n",
      "Epoch 88/100\n",
      "84/84 [==============================] - 6s 73ms/step - loss: 3.6944e-07 - val_loss: 0.0011\n",
      "Epoch 89/100\n",
      "84/84 [==============================] - 6s 73ms/step - loss: 3.7821e-07 - val_loss: 0.0015\n",
      "Epoch 90/100\n",
      "84/84 [==============================] - 6s 73ms/step - loss: 3.3558e-07 - val_loss: 5.4899e-04\n",
      "Epoch 91/100\n",
      "84/84 [==============================] - 6s 73ms/step - loss: 2.9532e-07 - val_loss: 8.4474e-04\n",
      "Epoch 92/100\n",
      "84/84 [==============================] - 6s 72ms/step - loss: 2.4685e-07 - val_loss: 0.0011\n",
      "Epoch 93/100\n",
      "84/84 [==============================] - 6s 73ms/step - loss: 2.8250e-07 - val_loss: 9.0668e-04\n",
      "Epoch 94/100\n",
      "84/84 [==============================] - 6s 72ms/step - loss: 2.7532e-07 - val_loss: 7.4980e-04\n",
      "Epoch 95/100\n",
      "84/84 [==============================] - 6s 73ms/step - loss: 2.4831e-07 - val_loss: 0.0011\n",
      "Epoch 96/100\n",
      "84/84 [==============================] - 6s 73ms/step - loss: 2.9336e-07 - val_loss: 0.0015\n",
      "Epoch 97/100\n",
      "84/84 [==============================] - 6s 73ms/step - loss: 2.8847e-07 - val_loss: 0.0012\n",
      "Epoch 98/100\n",
      "84/84 [==============================] - 6s 73ms/step - loss: 3.6410e-07 - val_loss: 6.2144e-04\n",
      "Epoch 99/100\n",
      "84/84 [==============================] - 6s 73ms/step - loss: 3.1820e-07 - val_loss: 4.2101e-04\n",
      "Epoch 100/100\n",
      "84/84 [==============================] - 6s 73ms/step - loss: 2.8064e-07 - val_loss: 0.0010\n"
     ]
    },
    {
     "data": {
      "text/plain": [
       "<keras.callbacks.History at 0x1d5020957c0>"
      ]
     },
     "execution_count": 29,
     "metadata": {},
     "output_type": "execute_result"
    }
   ],
   "source": [
    "model.fit(X_train,y_train,validation_data=(X_test,ytest),epochs=100,batch_size=64,verbose=1)"
   ]
  },
  {
   "cell_type": "code",
   "execution_count": 32,
   "id": "92156211",
   "metadata": {},
   "outputs": [],
   "source": [
    "### Lets Do the prediction and check performance metrics\n",
    "train_predict=model.predict(X_train)\n",
    "test_predict=model.predict(X_test)"
   ]
  },
  {
   "cell_type": "code",
   "execution_count": 33,
   "id": "fcbf5970",
   "metadata": {},
   "outputs": [],
   "source": [
    "##Transformback to original form\n",
    "train_predict=scaler.inverse_transform(train_predict)\n",
    "test_predict=scaler.inverse_transform(test_predict)"
   ]
  },
  {
   "cell_type": "code",
   "execution_count": 65,
   "id": "4ca7fe45",
   "metadata": {},
   "outputs": [],
   "source": [
    "#inversing the ytest\n",
    "ytest1=scaler.inverse_transform(ytest.reshape(-1, 1))\n",
    "ytrain1 = scaler.inverse_transform(y_train.reshape(-1, 1))"
   ]
  },
  {
   "cell_type": "code",
   "execution_count": 34,
   "id": "298db4fc",
   "metadata": {},
   "outputs": [
    {
     "data": {
      "text/plain": [
       "2.097672337475247"
      ]
     },
     "execution_count": 34,
     "metadata": {},
     "output_type": "execute_result"
    }
   ],
   "source": [
    "### Calculate RMSE performance metrics\n",
    "import math\n",
    "from sklearn.metrics import mean_squared_error\n",
    "math.sqrt(mean_squared_error(y_train,train_predict))"
   ]
  },
  {
   "cell_type": "code",
   "execution_count": 35,
   "id": "6dbd821c",
   "metadata": {},
   "outputs": [
    {
     "data": {
      "text/plain": [
       "69.84244648087325"
      ]
     },
     "execution_count": 35,
     "metadata": {},
     "output_type": "execute_result"
    }
   ],
   "source": [
    "### Test Data RMSE\n",
    "math.sqrt(mean_squared_error(ytest,test_predict))"
   ]
  },
  {
   "cell_type": "code",
   "execution_count": 70,
   "id": "05bcf3d6",
   "metadata": {},
   "outputs": [
    {
     "data": {
      "text/plain": [
       "Text(0.5, 1.0, 'Prediction vs original (testing data)')"
      ]
     },
     "execution_count": 70,
     "metadata": {},
     "output_type": "execute_result"
    },
    {
     "data": {
      "image/png": "[encoded data removed]",
      "text/plain": [
       "<Figure size 432x288 with 1 Axes>"
      ]
     },
     "metadata": {
      "needs_background": "light"
     },
     "output_type": "display_data"
    }
   ],
   "source": [
    "plt.plot(ytest1)\n",
    "plt.plot(test_predict)\n",
    "plt.title(\"Prediction vs original (testing data)\")"
   ]
  },
  {
   "cell_type": "code",
   "execution_count": 71,
   "id": "b4a49f5d",
   "metadata": {},
   "outputs": [
    {
     "data": {
      "text/plain": [
       "Text(0.5, 1.0, 'Prediction vs original (training data)')"
      ]
     },
     "execution_count": 71,
     "metadata": {},
     "output_type": "execute_result"
    },
    {
     "data": {
      "image/png": "[encoded data removed]",
      "text/plain": [
       "<Figure size 432x288 with 1 Axes>"
      ]
     },
     "metadata": {
      "needs_background": "light"
     },
     "output_type": "display_data"
    }
   ],
   "source": [
    "plt.plot(ytrain1)\n",
    "plt.plot(train_predict)\n",
    "plt.title(\"Prediction vs original (training data)\")"
   ]
  },
  {
   "cell_type": "code",
   "execution_count": null,
   "id": "ae7ffd0a",
   "metadata": {},
   "outputs": [],
   "source": []
  }
 ],
 "metadata": {
  "kernelspec": {
   "display_name": "Python 3",
   "language": "python",
   "name": "python3"
  },
  "language_info": {
   "codemirror_mode": {
    "name": "ipython",
    "version": 3
   },
   "file_extension": ".py",
   "mimetype": "text/x-python",
   "name": "python",
   "nbconvert_exporter": "python",
   "pygments_lexer": "ipython3",
   "version": "3.8.8"
  }
 },
 "nbformat": 4,
 "nbformat_minor": 5
}
